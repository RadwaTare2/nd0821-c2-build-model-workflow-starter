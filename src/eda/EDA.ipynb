{
 "cells": [
  {
   "cell_type": "code",
   "execution_count": 1,
   "id": "50f228d7-c544-45d3-aff8-d9b8ea1562d4",
   "metadata": {
    "scrolled": true
   },
   "outputs": [
    {
     "name": "stdout",
     "output_type": "stream",
     "text": [
      "Collecting protobuf==3.20.3\n",
      "  Using cached protobuf-3.20.3-cp39-cp39-manylinux_2_5_x86_64.manylinux1_x86_64.whl (1.0 MB)\n",
      "Installing collected packages: protobuf\n",
      "  Attempting uninstall: protobuf\n",
      "    Found existing installation: protobuf 5.27.2\n",
      "    Uninstalling protobuf-5.27.2:\n",
      "      Successfully uninstalled protobuf-5.27.2\n",
      "Successfully installed protobuf-3.20.3\n"
     ]
    }
   ],
   "source": [
    "!pip install protobuf==3.20.3\n",
    "!export PROTOCOL_BUFFERS_PYTHON_IMPLEMENTATION=python"
   ]
  },
  {
   "cell_type": "code",
   "execution_count": 2,
   "id": "eea27cd8-1c56-4e6e-bbc4-88b11ccf108a",
   "metadata": {},
   "outputs": [
    {
     "name": "stdout",
     "output_type": "stream",
     "text": [
      "Channels:\n",
      " - conda-forge\n",
      " - defaults\n",
      "Platform: linux-64\n",
      "Collecting package metadata (repodata.json): done\n",
      "Solving environment: \\ \u001b[33m\u001b[1mwarning  libmamba\u001b[m Added empty dependency for problem type SOLVER_RULE_UPDATE\n",
      "failed\n",
      "\n",
      "LibMambaUnsatisfiableError: Encountered problems while solving:\n",
      "  - package pandas-profiling-2.11.0-pyhd8ed1ab_0 requires visions 0.6.0.*, but none of the providers can be installed\n",
      "\n",
      "Could not solve for environment specs\n",
      "The following packages are incompatible\n",
      "├─ \u001b[32mpandas-profiling 2.11.0** \u001b[0m is installable and it requires\n",
      "│  └─ \u001b[32mvisions 0.6.0.* \u001b[0m, which can be installed;\n",
      "├─ \u001b[32mpandas 1.2.3** \u001b[0m is installable with the potential options\n",
      "│  ├─ \u001b[32mpandas [1.2.3|2.0.0|2.0.1|2.0.2|2.0.3]\u001b[0m would require\n",
      "│  │  └─ \u001b[32mpython >=3.8,<3.9.0a0 \u001b[0m, which can be installed;\n",
      "│  ├─ \u001b[32mpandas 1.2.3\u001b[0m, which can be installed;\n",
      "│  └─ \u001b[32mpandas 1.2.3\u001b[0m would require\n",
      "│     └─ \u001b[32mpython >=3.7,<3.8.0a0 \u001b[0m, which can be installed;\n",
      "├─ \u001b[31mpin-1\u001b[0m is not installable because it requires\n",
      "│  └─ \u001b[31mpython 3.9.* \u001b[0m, which conflicts with any installable versions previously reported;\n",
      "├─ \u001b[32mpyarrow 2.0** \u001b[0m is installable with the potential options\n",
      "│  ├─ \u001b[32mpyarrow 2.0.0\u001b[0m, which can be installed;\n",
      "│  ├─ \u001b[32mpyarrow 2.0.0\u001b[0m would require\n",
      "│  │  └─ \u001b[32marrow-cpp 2.0.0 py39hac430b1_55_cpu\u001b[0m, which requires\n",
      "│  │     └─ \u001b[32maws-sdk-cpp >=1.9.140,<1.9.141.0a0 \u001b[0m, which requires\n",
      "│  │        └─ \u001b[32mopenssl >=1.1.1l,<1.1.2a \u001b[0m, which can be installed;\n",
      "│  ├─ \u001b[32mpyarrow 2.0.0\u001b[0m would require\n",
      "│  │  └─ \u001b[32mpython >=3.10,<3.11.0a0 \u001b[0m, which can be installed;\n",
      "│  ├─ \u001b[32mpyarrow 2.0.0\u001b[0m would require\n",
      "│  │  └─ \u001b[32mpython >=3.6,<3.7.0a0 \u001b[0m, which can be installed;\n",
      "│  ├─ \u001b[32mpyarrow 2.0.0\u001b[0m would require\n",
      "│  │  └─ \u001b[32mpython >=3.7,<3.8.0a0 \u001b[0m, which can be installed;\n",
      "│  └─ \u001b[32mpyarrow 2.0.0\u001b[0m would require\n",
      "│     └─ \u001b[32mpython >=3.8,<3.9.0a0 \u001b[0m, which can be installed;\n",
      "└─ \u001b[32mydata-profiling\u001b[0m is installable with the potential options\n",
      "   ├─ \u001b[32mydata-profiling [4.0.0|4.1.0|...|4.7.0]\u001b[0m would require\n",
      "   │  └─ \u001b[32mvisions 0.7.5 \u001b[0m with the potential options\n",
      "   │     ├─ \u001b[31mvisions 0.7.5\u001b[0m conflicts with any installable versions previously reported;\n",
      "   │     ├─ \u001b[32mvisions [0.7.5|0.7.6]\u001b[0m would require\n",
      "   │     │  └─ \u001b[32mpython >=3.10,<3.11.0a0 \u001b[0m, which can be installed;\n",
      "   │     ├─ \u001b[32mvisions [0.7.5|0.7.6]\u001b[0m would require\n",
      "   │     │  └─ \u001b[32mpython >=3.11,<3.12.0a0 \u001b[0m, which can be installed;\n",
      "   │     ├─ \u001b[32mvisions [0.7.5|0.7.6]\u001b[0m would require\n",
      "   │     │  └─ \u001b[32mpython >=3.12,<3.13.0a0 \u001b[0m, which can be installed;\n",
      "   │     ├─ \u001b[32mvisions 0.7.5\u001b[0m would require\n",
      "   │     │  └─ \u001b[32mpython >=3.7,<3.8.0a0 \u001b[0m, which can be installed;\n",
      "   │     └─ \u001b[32mvisions [0.7.5|0.7.6]\u001b[0m would require\n",
      "   │        └─ \u001b[32mpython >=3.8,<3.9.0a0 \u001b[0m, which can be installed;\n",
      "   ├─ \u001b[32mydata-profiling [4.7.0|4.8.3]\u001b[0m would require\n",
      "   │  └─ \u001b[32mvisions >=0.7.5,<0.7.7 \u001b[0m with the potential options\n",
      "   │     ├─ \u001b[31mvisions 0.7.5\u001b[0m conflicts with any installable versions previously reported;\n",
      "   │     ├─ \u001b[32mvisions [0.7.5|0.7.6]\u001b[0m, which can be installed (as previously explained);\n",
      "   │     ├─ \u001b[32mvisions [0.7.5|0.7.6]\u001b[0m, which can be installed (as previously explained);\n",
      "   │     ├─ \u001b[32mvisions [0.7.5|0.7.6]\u001b[0m, which can be installed (as previously explained);\n",
      "   │     ├─ \u001b[32mvisions 0.7.5\u001b[0m, which can be installed (as previously explained);\n",
      "   │     ├─ \u001b[32mvisions [0.7.5|0.7.6]\u001b[0m, which can be installed (as previously explained);\n",
      "   │     ├─ \u001b[31mvisions 0.7.6\u001b[0m conflicts with any installable versions previously reported;\n",
      "   │     └─ \u001b[32mvisions 0.7.6\u001b[0m would require\n",
      "   │        └─ \u001b[32mpandas >=2.0.0 \u001b[0m with the potential options\n",
      "   │           ├─ \u001b[32mpandas [2.0.0|2.0.1|...|2.2.2]\u001b[0m would require\n",
      "   │           │  └─ \u001b[32mpython >=3.10,<3.11.0a0 \u001b[0m, which can be installed;\n",
      "   │           ├─ \u001b[32mpandas [2.0.0|2.0.1|...|2.2.2]\u001b[0m would require\n",
      "   │           │  └─ \u001b[32mpython >=3.11,<3.12.0a0 \u001b[0m, which can be installed;\n",
      "   │           ├─ \u001b[32mpandas [1.2.3|2.0.0|2.0.1|2.0.2|2.0.3]\u001b[0m, which can be installed (as previously explained);\n",
      "   │           ├─ \u001b[31mpandas [2.0.0|2.0.1|...|2.2.2]\u001b[0m conflicts with any installable versions previously reported;\n",
      "   │           ├─ \u001b[32mpandas 2.1.1\u001b[0m would require\n",
      "   │           │  └─ \u001b[32mpython >=3.12.0rc3,<3.13.0a0 \u001b[0m with the potential options\n",
      "   │           │     ├─ \u001b[32mpython [3.12.0|3.12.1|3.12.2|3.12.3|3.12.4]\u001b[0m, which can be installed;\n",
      "   │           │     └─ \u001b[31mpython 3.12.0rc3\u001b[0m would require\n",
      "   │           │        └─ \u001b[31m_python_rc\u001b[0m, which does not exist (perhaps a missing channel);\n",
      "   │           ├─ \u001b[31mpandas [2.1.1|2.1.2|2.1.3|2.1.4|2.2.0]\u001b[0m would require\n",
      "   │           │  └─ \u001b[31mpypy3.9 >=7.3.13 \u001b[0m but there are no viable options\n",
      "   │           │     ├─ \u001b[31mpypy3.9 7.3.15\u001b[0m would require\n",
      "   │           │     │  └─ \u001b[31mopenssl >=3.2.1,<4.0a0 \u001b[0m, which conflicts with any installable versions previously reported;\n",
      "   │           │     ├─ \u001b[31mpypy3.9 7.3.16\u001b[0m would require\n",
      "   │           │     │  └─ \u001b[31mopenssl >=3.3.0,<4.0a0 \u001b[0m, which conflicts with any installable versions previously reported;\n",
      "   │           │     ├─ \u001b[31mpypy3.9 7.3.13\u001b[0m would require\n",
      "   │           │     │  └─ \u001b[31mopenssl >=3.1.3,<4.0a0 \u001b[0m, which conflicts with any installable versions previously reported;\n",
      "   │           │     └─ \u001b[31mpypy3.9 7.3.13\u001b[0m would require\n",
      "   │           │        └─ \u001b[31mopenssl >=3.1.4,<4.0a0 \u001b[0m, which conflicts with any installable versions previously reported;\n",
      "   │           ├─ \u001b[32mpandas [2.1.1|2.1.2|...|2.2.2]\u001b[0m would require\n",
      "   │           │  └─ \u001b[32mpython >=3.12,<3.13.0a0 \u001b[0m, which can be installed;\n",
      "   │           ├─ \u001b[31mpandas [2.2.1|2.2.2]\u001b[0m would require\n",
      "   │           │  └─ \u001b[31mpypy3.9 >=7.3.15 \u001b[0m, which cannot be installed (as previously explained);\n",
      "   │           ├─ \u001b[31mpandas [2.0.3|2.1.1|2.1.4]\u001b[0m would require\n",
      "   │           │  └─ \u001b[31mpyarrow >=7.0.0 \u001b[0m, which conflicts with any installable versions previously reported;\n",
      "   │           └─ \u001b[31mpandas [2.2.1|2.2.2]\u001b[0m would require\n",
      "   │              └─ \u001b[31mpyarrow >=10.0.1 \u001b[0m, which conflicts with any installable versions previously reported;\n",
      "   ├─ \u001b[32mydata-profiling [4.1.1|4.8.3]\u001b[0m would require\n",
      "   │  └─ \u001b[32mpython >=3.10,<3.11.0a0 \u001b[0m, which can be installed;\n",
      "   ├─ \u001b[32mydata-profiling [4.1.1|4.8.3]\u001b[0m would require\n",
      "   │  └─ \u001b[32mpython >=3.11,<3.12.0a0 \u001b[0m, which can be installed;\n",
      "   ├─ \u001b[32mydata-profiling [4.1.1|4.8.3]\u001b[0m would require\n",
      "   │  └─ \u001b[32mpython >=3.8,<3.9.0a0 \u001b[0m, which can be installed;\n",
      "   └─ \u001b[32mydata-profiling 4.8.3\u001b[0m would require\n",
      "      └─ \u001b[32mpython >=3.12,<3.13.0a0 \u001b[0m, which can be installed.\n",
      "\n"
     ]
    }
   ],
   "source": [
    "!conda install -c conda-forge ydata-profiling -y"
   ]
  },
  {
   "cell_type": "code",
   "execution_count": null,
   "id": "7b953163-b77e-4180-9d16-ecb5f29761cb",
   "metadata": {},
   "outputs": [],
   "source": []
  },
  {
   "cell_type": "code",
   "execution_count": 12,
   "id": "58e8a024-2e1a-46c3-b21b-b2a7c77a9411",
   "metadata": {},
   "outputs": [
    {
     "data": {
      "text/html": [
       "Tracking run with wandb version 0.17.4"
      ],
      "text/plain": [
       "<IPython.core.display.HTML object>"
      ]
     },
     "metadata": {},
     "output_type": "display_data"
    },
    {
     "data": {
      "text/html": [
       "Run data is saved locally in <code>/workspaces/nd0821-c2-build-model-workflow-starter/src/eda/wandb/run-20240705_004006-h6va2z5w</code>"
      ],
      "text/plain": [
       "<IPython.core.display.HTML object>"
      ]
     },
     "metadata": {},
     "output_type": "display_data"
    },
    {
     "data": {
      "text/html": [
       "Syncing run <strong><a href='https://wandb.ai/radwa/nyc_airbnb/runs/h6va2z5w' target=\"_blank\">eager-gorge-33</a></strong> to <a href='https://wandb.ai/radwa/nyc_airbnb' target=\"_blank\">Weights & Biases</a> (<a href='https://wandb.me/run' target=\"_blank\">docs</a>)<br/>"
      ],
      "text/plain": [
       "<IPython.core.display.HTML object>"
      ]
     },
     "metadata": {},
     "output_type": "display_data"
    },
    {
     "data": {
      "text/html": [
       " View project at <a href='https://wandb.ai/radwa/nyc_airbnb' target=\"_blank\">https://wandb.ai/radwa/nyc_airbnb</a>"
      ],
      "text/plain": [
       "<IPython.core.display.HTML object>"
      ]
     },
     "metadata": {},
     "output_type": "display_data"
    },
    {
     "data": {
      "text/html": [
       " View run at <a href='https://wandb.ai/radwa/nyc_airbnb/runs/h6va2z5w' target=\"_blank\">https://wandb.ai/radwa/nyc_airbnb/runs/h6va2z5w</a>"
      ],
      "text/plain": [
       "<IPython.core.display.HTML object>"
      ]
     },
     "metadata": {},
     "output_type": "display_data"
    }
   ],
   "source": [
    "import wandb\n",
    "import pandas as pd\n",
    "\n",
    "run = wandb.init(project=\"nyc_airbnb\", group=\"eda\", save_code=True)\n",
    "local_path = wandb.use_artifact(\"sample.csv:latest\").file()\n",
    "df = pd.read_csv(local_path)"
   ]
  },
  {
   "cell_type": "code",
   "execution_count": 13,
   "id": "a7915472-4a05-4d8e-ab72-7bbf6df090f5",
   "metadata": {},
   "outputs": [],
   "source": [
    "# import pandas_profiling\n",
    "\n",
    "# profile = pandas_profiling.ProfileReport(df)\n",
    "# profile.to_widgets()"
   ]
  },
  {
   "cell_type": "code",
   "execution_count": 14,
   "id": "6dfaab7f-cf77-40ad-b551-0edca6a5dcd9",
   "metadata": {},
   "outputs": [],
   "source": [
    "# Drop outliers\n",
    "min_price = 10\n",
    "max_price = 350\n",
    "idx = df['price'].between(min_price, max_price)\n",
    "df = df[idx].copy()\n",
    "# Convert last_review to datetime\n",
    "df['last_review'] = pd.to_datetime(df['last_review'])"
   ]
  },
  {
   "cell_type": "code",
   "execution_count": 15,
   "id": "2215ca7e-8707-4808-984f-6220e7b65886",
   "metadata": {},
   "outputs": [
    {
     "name": "stdout",
     "output_type": "stream",
     "text": [
      "<class 'pandas.core.frame.DataFrame'>\n",
      "Index: 19001 entries, 0 to 19999\n",
      "Data columns (total 16 columns):\n",
      " #   Column                          Non-Null Count  Dtype         \n",
      "---  ------                          --------------  -----         \n",
      " 0   id                              19001 non-null  int64         \n",
      " 1   name                            18994 non-null  object        \n",
      " 2   host_id                         19001 non-null  int64         \n",
      " 3   host_name                       18993 non-null  object        \n",
      " 4   neighbourhood_group             19001 non-null  object        \n",
      " 5   neighbourhood                   19001 non-null  object        \n",
      " 6   latitude                        19001 non-null  float64       \n",
      " 7   longitude                       19001 non-null  float64       \n",
      " 8   room_type                       19001 non-null  object        \n",
      " 9   price                           19001 non-null  int64         \n",
      " 10  minimum_nights                  19001 non-null  int64         \n",
      " 11  number_of_reviews               19001 non-null  int64         \n",
      " 12  last_review                     15243 non-null  datetime64[ns]\n",
      " 13  reviews_per_month               15243 non-null  float64       \n",
      " 14  calculated_host_listings_count  19001 non-null  int64         \n",
      " 15  availability_365                19001 non-null  int64         \n",
      "dtypes: datetime64[ns](1), float64(3), int64(7), object(5)\n",
      "memory usage: 2.5+ MB\n"
     ]
    }
   ],
   "source": [
    "df.info()"
   ]
  },
  {
   "cell_type": "code",
   "execution_count": null,
   "id": "822d711a-94fd-450d-8540-013106d5000f",
   "metadata": {},
   "outputs": [],
   "source": [
    "run.finish()"
   ]
  },
  {
   "cell_type": "code",
   "execution_count": null,
   "id": "c71cb7d1-4314-478d-a2f9-8aed1f7161dc",
   "metadata": {},
   "outputs": [],
   "source": []
  }
 ],
 "metadata": {
  "kernelspec": {
   "display_name": "Python 3 (ipykernel)",
   "language": "python",
   "name": "python3"
  },
  "language_info": {
   "codemirror_mode": {
    "name": "ipython",
    "version": 3
   },
   "file_extension": ".py",
   "mimetype": "text/x-python",
   "name": "python",
   "nbconvert_exporter": "python",
   "pygments_lexer": "ipython3",
   "version": "3.10.13"
  }
 },
 "nbformat": 4,
 "nbformat_minor": 5
}
